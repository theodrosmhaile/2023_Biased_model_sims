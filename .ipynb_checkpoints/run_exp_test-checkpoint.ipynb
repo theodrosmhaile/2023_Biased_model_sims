{
 "cells": [
  {
   "cell_type": "code",
   "execution_count": null,
   "id": "ab88e3cc-a33a-4154-923c-45363862b48b",
   "metadata": {},
   "outputs": [],
   "source": [
    "import actr\n",
    "import time\n",
    "import pandas as pd\n",
    "import strategy_integrated_model_interface_2023 as str\n",
    "import numpy as np"
   ]
  },
  {
   "cell_type": "code",
   "execution_count": null,
   "id": "6b9cb5e7-a947-408a-9128-09149d7f7855",
   "metadata": {
    "tags": []
   },
   "outputs": [],
   "source": [
    "st_time = time.time()\n",
    "str.simulation(3, 0.2, 0.4,0.28, 0.1, 'RL20', 1) \n",
    "ex_time= time.time()-st_time"
   ]
  },
  {
   "cell_type": "code",
   "execution_count": null,
   "id": "6303ed34-6875-4323-99d8-3fff0e71267e",
   "metadata": {},
   "outputs": [],
   "source": [
    "#(((ex_time*1000)/60)/60)\n",
    "ex_time\n"
   ]
  },
  {
   "cell_type": "code",
   "execution_count": null,
   "id": "c1da07ce-8457-491a-a4af-5d178e29093b",
   "metadata": {},
   "outputs": [],
   "source": [
    "len(str.RL20)\n",
    "#print(str.RL40)\n",
    "np.mean(str.accuracy)"
   ]
  },
  {
   "cell_type": "code",
   "execution_count": null,
   "id": "e53226a0-a6bb-48e0-a2bf-a89c5f21c1c6",
   "metadata": {},
   "outputs": [],
   "source": [
    "len(np.repeat(1,133*0.20))\n",
    "round(132*.6)"
   ]
  }
 ],
 "metadata": {
  "kernelspec": {
   "display_name": "Python 3",
   "language": "python",
   "name": "python3"
  },
  "language_info": {
   "codemirror_mode": {
    "name": "ipython",
    "version": 3
   },
   "file_extension": ".py",
   "mimetype": "text/x-python",
   "name": "python",
   "nbconvert_exporter": "python",
   "pygments_lexer": "ipython3",
   "version": "3.9.17"
  }
 },
 "nbformat": 4,
 "nbformat_minor": 5
}
