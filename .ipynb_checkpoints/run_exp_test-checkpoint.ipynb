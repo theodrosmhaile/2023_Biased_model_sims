{
 "cells": [
  {
   "cell_type": "code",
   "execution_count": 1,
   "id": "ab88e3cc-a33a-4154-923c-45363862b48b",
   "metadata": {},
   "outputs": [
    {
     "name": "stdout",
     "output_type": "stream",
     "text": [
      "ACT-R connection has been started.\n"
     ]
    }
   ],
   "source": [
    "import actr\n",
    "import time\n",
    "import pandas as pd\n",
    "#import strategy_integrated_model_interface_2023 as str\n",
    "#import pipe_integrated_model_interface_2023 as pipe\n",
    "\n",
    "import numpy as np\n",
    "import seaborn as sbn\n",
    "import Hail_mary_strategy_integrated_model_interface_2023 as hl"
   ]
  },
  {
   "cell_type": "code",
   "execution_count": 20,
   "id": "6b9cb5e7-a947-408a-9128-09149d7f7855",
   "metadata": {
    "tags": []
   },
   "outputs": [],
   "source": [
    "st_time = time.time()\n",
    "#str.execute_sim(2,0,10, \"testSIM\") \n",
    "hl.simulation(3.2,0.15, 0.2, .323, 0.2,'RL90',  1)\n",
    "ex_time= time.time()-st_time"
   ]
  },
  {
   "cell_type": "code",
   "execution_count": 3,
   "id": "6303ed34-6875-4323-99d8-3fff0e71267e",
   "metadata": {},
   "outputs": [
    {
     "data": {
      "text/plain": [
       "0.7335281372070312"
      ]
     },
     "execution_count": 3,
     "metadata": {},
     "output_type": "execute_result"
    }
   ],
   "source": [
    "#(((ex_time*1000)/60)/60)\n",
    "ex_time\n"
   ]
  },
  {
   "cell_type": "code",
   "execution_count": 21,
   "id": "c1da07ce-8457-491a-a4af-5d178e29093b",
   "metadata": {},
   "outputs": [
    {
     "data": {
      "text/plain": [
       "0.9015151515151515"
      ]
     },
     "execution_count": 21,
     "metadata": {},
     "output_type": "execute_result"
    }
   ],
   "source": [
    "np.sum(hl.current_strategy==1)/132\n"
   ]
  },
  {
   "cell_type": "code",
   "execution_count": null,
   "id": "e53226a0-a6bb-48e0-a2bf-a89c5f21c1c6",
   "metadata": {},
   "outputs": [],
   "source": [
    "np.std(str.sim_data[1][0]-str.sim_data[0][0])\n",
    "\n",
    "\n",
    "\n"
   ]
  },
  {
   "cell_type": "code",
   "execution_count": null,
   "id": "8db902b8-3db0-4637-ab7e-720efef7ef7a",
   "metadata": {},
   "outputs": [],
   "source": [
    "sim = pd.DataFrame(str.sim_data, columns=['set3_learn','set6_learn', 'set3_test', 'set6_test','mas', 'alpha', 'egs', 'se', 'ans','strtg' ])"
   ]
  },
  {
   "cell_type": "code",
   "execution_count": null,
   "id": "1a9ffa9a-a93b-4bc8-b462-fa0501504444",
   "metadata": {},
   "outputs": [],
   "source": [
    "hl.params_sub_c\n"
   ]
  },
  {
   "cell_type": "code",
   "execution_count": null,
   "id": "f1a34472-279d-480c-8286-af8ebc36a4d1",
   "metadata": {},
   "outputs": [],
   "source": [
    "48195/202\n",
    "\n"
   ]
  },
  {
   "cell_type": "code",
   "execution_count": null,
   "id": "40a4b656-64a5-414b-b4b5-98dd099600c2",
   "metadata": {},
   "outputs": [],
   "source": [
    "RL20 = np.random.permutation(\n",
    "        np.concatenate(\n",
    "        [np.repeat(1,round(132*0.10)) ,\n",
    "        np.repeat(2, round(132 * 0.9))]))"
   ]
  },
  {
   "cell_type": "code",
   "execution_count": null,
   "id": "e74aa416-66a4-4f11-84b5-331f2b0af386",
   "metadata": {},
   "outputs": [],
   "source": [
    "np.mean(RL20==1)+np.mean(RL20==2)"
   ]
  }
 ],
 "metadata": {
  "kernelspec": {
   "display_name": "Python 3",
   "language": "python",
   "name": "python3"
  },
  "language_info": {
   "codemirror_mode": {
    "name": "ipython",
    "version": 3
   },
   "file_extension": ".py",
   "mimetype": "text/x-python",
   "name": "python",
   "nbconvert_exporter": "python",
   "pygments_lexer": "ipython3",
   "version": "3.9.17"
  }
 },
 "nbformat": 4,
 "nbformat_minor": 5
}
