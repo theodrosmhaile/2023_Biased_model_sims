{
 "cells": [
  {
   "cell_type": "code",
   "execution_count": 1,
   "id": "ab88e3cc-a33a-4154-923c-45363862b48b",
   "metadata": {},
   "outputs": [
    {
     "name": "stdout",
     "output_type": "stream",
     "text": [
      "ACT-R connection has been started.\n",
      "#|Warning: Parameter DECAYS already defined for chunks. |#\n",
      "#|Warning: Parameter LAST-M already defined for chunks. |#\n",
      "#|Warning: Cannot create a new module when there are models defined. |#\n"
     ]
    }
   ],
   "source": [
    "import actr\n",
    "import time\n",
    "import pandas as pd\n",
    "import strategy_integrated_model_interface_2023 as str\n",
    "import numpy as np"
   ]
  },
  {
   "cell_type": "code",
   "execution_count": 2,
   "id": "6b9cb5e7-a947-408a-9128-09149d7f7855",
   "metadata": {
    "tags": []
   },
   "outputs": [
    {
     "name": "stdout",
     "output_type": "stream",
     "text": [
      "1\n",
      "2\n",
      "3\n",
      "4\n",
      "5\n",
      "6\n",
      "7\n",
      "8\n",
      "9\n",
      "10\n"
     ]
    }
   ],
   "source": [
    "st_time = time.time()\n",
    "str.execute_sim(100,0,10, \"testSIM\") \n",
    "ex_time= time.time()-st_time"
   ]
  },
  {
   "cell_type": "code",
   "execution_count": 3,
   "id": "6303ed34-6875-4323-99d8-3fff0e71267e",
   "metadata": {},
   "outputs": [
    {
     "data": {
      "text/plain": [
       "394.11106610298157"
      ]
     },
     "execution_count": 3,
     "metadata": {},
     "output_type": "execute_result"
    }
   ],
   "source": [
    "#(((ex_time*1000)/60)/60)\n",
    "ex_time\n"
   ]
  },
  {
   "cell_type": "code",
   "execution_count": null,
   "id": "c1da07ce-8457-491a-a4af-5d178e29093b",
   "metadata": {},
   "outputs": [],
   "source": [
    "len(str.RL20)\n",
    "#print(str.RL40)\n",
    "np.mean(str.accuracy)"
   ]
  },
  {
   "cell_type": "code",
   "execution_count": null,
   "id": "e53226a0-a6bb-48e0-a2bf-a89c5f21c1c6",
   "metadata": {},
   "outputs": [],
   "source": [
    "len(np.repeat(1,133*0.20))\n",
    "round(132*.6)"
   ]
  },
  {
   "cell_type": "code",
   "execution_count": null,
   "id": "8db902b8-3db0-4637-ab7e-720efef7ef7a",
   "metadata": {},
   "outputs": [],
   "source": [
    "hlp=pd.read_pickle('./sims/STR_sim_data_frac_testSIM_0_to_10')\n",
    "hlp.to_dict()"
   ]
  },
  {
   "cell_type": "code",
   "execution_count": 4,
   "id": "1a9ffa9a-a93b-4bc8-b462-fa0501504444",
   "metadata": {},
   "outputs": [
    {
     "data": {
      "text/plain": [
       "[[array([0.35      , 0.32      , 0.63333333, 0.39      , 0.57666667,\n",
       "         0.47      , 0.55333333, 0.77      , 0.79333333, 0.81333333,\n",
       "         0.69666667, 0.88      ]),\n",
       "  array([0.315     , 0.37      , 0.37833333, 0.43      , 0.535     ,\n",
       "         0.51      , 0.55333333, 0.61666667, 0.62      , 0.74166667,\n",
       "         0.69333333, 0.73166667]),\n",
       "  0.7116666666666666,\n",
       "  0.7325,\n",
       "  2.4,\n",
       "  0.05,\n",
       "  0.1,\n",
       "  0.28,\n",
       "  0.2,\n",
       "  'RL60'],\n",
       " [array([0.33      , 0.41666667, 0.44333333, 0.44      , 0.54      ,\n",
       "         0.67666667, 0.56666667, 0.77      , 0.68666667, 0.56666667,\n",
       "         0.71333333, 0.73333333]),\n",
       "  array([0.35      , 0.35666667, 0.47      , 0.47333333, 0.50333333,\n",
       "         0.605     , 0.57166667, 0.61833333, 0.725     , 0.72833333,\n",
       "         0.66      , 0.78333333]),\n",
       "  0.6799999999999998,\n",
       "  0.7433333333333334,\n",
       "  2.4,\n",
       "  0.05,\n",
       "  0.1,\n",
       "  0.28,\n",
       "  0.2,\n",
       "  'RL80'],\n",
       " [array([0.33      , 0.37666667, 0.51      , 0.72666667, 0.87333333,\n",
       "         0.93666667, 0.71333333, 0.79      , 0.98666667, 0.78666667,\n",
       "         0.99666667, 0.82666667]),\n",
       "  array([0.28833333, 0.40833333, 0.605     , 0.64833333, 0.68666667,\n",
       "         0.82666667, 0.805     , 0.84666667, 0.85166667, 0.86333333,\n",
       "         0.775     , 0.62666667]),\n",
       "  0.7875000000000001,\n",
       "  0.9075,\n",
       "  2.4,\n",
       "  0.05,\n",
       "  0.1,\n",
       "  0.28,\n",
       "  0.3,\n",
       "  'RL20'],\n",
       " [array([0.30666667, 0.33      , 0.4       , 0.50666667, 0.62333333,\n",
       "         0.83666667, 0.90333333, 0.81666667, 0.96333333, 0.68      ,\n",
       "         0.76666667, 0.99333333]),\n",
       "  array([0.31666667, 0.35666667, 0.40166667, 0.52333333, 0.51666667,\n",
       "         0.70666667, 0.66166667, 0.61666667, 0.79666667, 0.82333333,\n",
       "         0.66166667, 0.73166667]),\n",
       "  0.7074999999999999,\n",
       "  0.7924999999999999,\n",
       "  2.4,\n",
       "  0.05,\n",
       "  0.1,\n",
       "  0.28,\n",
       "  0.3,\n",
       "  'RL40']]"
      ]
     },
     "execution_count": 4,
     "metadata": {},
     "output_type": "execute_result"
    }
   ],
   "source": [
    "str.sim_data"
   ]
  }
 ],
 "metadata": {
  "kernelspec": {
   "display_name": "Python 3",
   "language": "python",
   "name": "python3"
  },
  "language_info": {
   "codemirror_mode": {
    "name": "ipython",
    "version": 3
   },
   "file_extension": ".py",
   "mimetype": "text/x-python",
   "name": "python",
   "nbconvert_exporter": "python",
   "pygments_lexer": "ipython3",
   "version": "3.9.17"
  }
 },
 "nbformat": 4,
 "nbformat_minor": 5
}
